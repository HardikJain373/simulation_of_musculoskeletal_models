{
 "cells": [
  {
   "cell_type": "code",
   "execution_count": null,
   "metadata": {},
   "outputs": [],
   "source": [
    "# importing the necessary libraries\n",
    "import gym\n",
    "import myosuite\n",
    "from stable_baselines3 import PPO\n",
    "from gym.envs.registration import register\n",
    "from stable_baselines3.common.callbacks import EvalCallback\n",
    "from stable_baselines3.common.vec_env import VecFrameStack, DummyVecEnv\n",
    "\n",
    "import pandas as pd\n",
    "import numpy as np\n",
    "import matplotlib.pyplot as plt\n",
    "import torch\n",
    "from time import sleep\n",
    "\n",
    "\n",
    "device = torch.device(\"cuda:0\" if torch.cuda.is_available() else \"cpu\")\n",
    "\n",
    "# environment registration\n",
    "ENV_NAME = 'Reach-v0'\n",
    "MODEL_PATH = \"C:/Personal/Second year/Sem 2/Project Course/Submission/arm/myoarm.xml\"\n",
    "register(id=ENV_NAME,\n",
    "        entry_point='myosuite.envs.myo.myobase.reach_v0:ReachEnvV0',\n",
    "        max_episode_steps=200,\n",
    "        kwargs={\n",
    "            'model_path': MODEL_PATH,\n",
    "            'target_reach_range': {'ECU-P3': ((-0.04, -0.25, 0.04), (-0.04, -0.25, 0.04))},\n",
    "            # 'target_reach_range': {'ECU-P3': ((0.04, -0.45, 0.03), (0.04, -0.45, 0.03))},\n",
    "            # 'target_reach_range': {'ECU-P3': ((0.05, -0.45, 0.02), (0.05, -0.45, 0.02))},\n",
    "            # 'target_reach_range': {'ECU-P3': ((0.04, -0.45, 0.01), (0.04, -0.45, 0.01))},\n",
    "            'normalize_act': True,\n",
    "        }\n",
    ")\n",
    "#-0.01062, -0.532, 0.05958\n",
    "# -0.017, -0.45, 0.07\n",
    "# -0.09, 0.15, 0.561"
   ]
  },
  {
   "cell_type": "code",
   "execution_count": null,
   "metadata": {},
   "outputs": [],
   "source": [
    "# initialising the environment\n",
    "env = gym.make('Reach-v0', seed=1)\n",
    "obs = env.reset()\n",
    "\n",
    "# initialising the evaluation environment\n",
    "eval_env = gym.make('Reach-v0', seed=1)\n",
    "eval_env.reset()\n",
    "\n",
    "# Callback to test the performance\n",
    "eval_callback = EvalCallback(eval_env, best_model_save_path='./logs/',\n",
    "                             log_path='./logs/', eval_freq=500,\n",
    "                             deterministic=True, render=False)"
   ]
  },
  {
   "cell_type": "code",
   "execution_count": null,
   "metadata": {},
   "outputs": [],
   "source": [
    "env.sim"
   ]
  },
  {
   "cell_type": "code",
   "execution_count": null,
   "metadata": {},
   "outputs": [],
   "source": [
    "env.get_env_state()"
   ]
  },
  {
   "cell_type": "code",
   "execution_count": null,
   "metadata": {},
   "outputs": [],
   "source": [
    "env.sim.data.site('ECU-P3')"
   ]
  },
  {
   "cell_type": "code",
   "execution_count": null,
   "metadata": {},
   "outputs": [],
   "source": [
    "# arrays for storing the coordinates of the trajectory\n",
    "observations_x=[env.sim.data.site('ECU-P3').xpos[0]]\n",
    "observations_y=[env.sim.data.site('ECU-P3').xpos[1]]\n",
    "observations_z=[env.sim.data.site('ECU-P3').xpos[2]]"
   ]
  },
  {
   "cell_type": "code",
   "execution_count": null,
   "metadata": {},
   "outputs": [],
   "source": [
    "# RL model\n",
    "model = PPO(\"MlpPolicy\", env, verbose=1, device=device)\n",
    "model.learn(total_timesteps=10000, callback=eval_callback)\n",
    "model.save(\"myoarm_model\")\n",
    "model.load(\"myoarm_model\")\n",
    "\n",
    "# loop to carry out the simulation\n",
    "done = False\n",
    "# i = 1\n",
    "while not done:\n",
    "    act, _ = model.predict(obs)\n",
    "    sleep(0.1)\n",
    "    obs, reward, done, info = env.step(act)\n",
    "    observations_x.append(env.sim.data.site('ECU-P3').xpos[0])\n",
    "    observations_y.append(env.sim.data.site('ECU-P3').xpos[1])\n",
    "    observations_z.append(env.sim.data.site('ECU-P3').xpos[2])\n",
    "    env.mj_render()\n",
    "    print(done, act, obs)\n",
    "    print(env.sim.data.time)\n",
    "    # i += 1"
   ]
  },
  {
   "cell_type": "code",
   "execution_count": null,
   "metadata": {},
   "outputs": [],
   "source": [
    "#plotting the coordinates of the trajectory\n",
    "plt.plot(observations_x[0], 'o')\n",
    "plt.plot(observations_x)"
   ]
  },
  {
   "cell_type": "code",
   "execution_count": null,
   "metadata": {},
   "outputs": [],
   "source": [
    "plt.plot(observations_y[0], 'o')\n",
    "plt.plot(observations_y)"
   ]
  },
  {
   "cell_type": "code",
   "execution_count": null,
   "metadata": {},
   "outputs": [],
   "source": [
    "plt.plot(observations_z[0], 'o')\n",
    "plt.plot(observations_z)"
   ]
  },
  {
   "cell_type": "markdown",
   "metadata": {},
   "source": []
  }
 ],
 "metadata": {
  "kernelspec": {
   "display_name": "Python 3",
   "language": "python",
   "name": "python3"
  },
  "language_info": {
   "codemirror_mode": {
    "name": "ipython",
    "version": 3
   },
   "file_extension": ".py",
   "mimetype": "text/x-python",
   "name": "python",
   "nbconvert_exporter": "python",
   "pygments_lexer": "ipython3",
   "version": "3.10.11"
  }
 },
 "nbformat": 4,
 "nbformat_minor": 2
}
